{
 "cells": [
  {
   "cell_type": "markdown",
   "id": "47597765",
   "metadata": {},
   "source": [
    "### Import and webdriver setup"
   ]
  },
  {
   "cell_type": "code",
   "execution_count": null,
   "id": "20d77e8d",
   "metadata": {},
   "outputs": [],
   "source": [
    "#C:/Users/grema/Jupyter python stuff/PlayStoreScraper/chromedriver.exe\n",
    "#C:/Users/jackie.yu/Documents/WeCloudData/Python/PlayStoreProject/PlayStoreScraper/chromedriver.exe"
   ]
  },
  {
   "cell_type": "code",
   "execution_count": null,
   "id": "c5d0c3b0",
   "metadata": {},
   "outputs": [],
   "source": [
    "import re\n",
    "import random\n",
    "from time import sleep\n",
    "from datetime import datetime"
   ]
  },
  {
   "cell_type": "code",
   "execution_count": null,
   "id": "7e374b61",
   "metadata": {},
   "outputs": [],
   "source": [
    "from selenium import webdriver\n",
    "from selenium.webdriver.common.keys import Keys\n",
    "\n",
    "driver = webdriver.Chrome('C:/Users/jackie.yu/Documents/WeCloudData/Python/PlayStoreProject/PlayStoreScraper/chromedriver.exe')\n",
    "driver.get(\"https://play.google.com/store/apps/details?id=cc.forestapp&showAllReviews=true\")"
   ]
  },
  {
   "cell_type": "markdown",
   "id": "9989fc20",
   "metadata": {
    "scrolled": true
   },
   "source": [
    "### Parsing through the html with Selenium"
   ]
  },
  {
   "cell_type": "code",
   "execution_count": null,
   "id": "7d048e6e",
   "metadata": {},
   "outputs": [],
   "source": [
    "# Expands the \"Read more\" button for reviews and scrolls\n",
    "for _ in range(20):   \n",
    "    button_list = driver.find_elements_by_css_selector(\"button[jsname='gxjVle']\")\n",
    "    for button in button_list:\n",
    "        driver.execute_script(\"arguments[0].click();\", button)\n",
    "    driver.execute_script(\"window.scrollTo(0, document.body.scrollHeight);\")\n",
    "    sleep(random.randint(0,10))\n",
    "    try:\n",
    "        driver.find_element_by_class_name(\"U26fgb.O0WRkf.oG5Srb.C0oVfc.n9lfJ.M9Bg4d\").click()\n",
    "    \n",
    "        print(\"i clicked\")\n",
    "    except:\n",
    "        print(\"me pass\")\n",
    "        pass"
   ]
  },
  {
   "cell_type": "code",
   "execution_count": null,
   "id": "68ca4967",
   "metadata": {},
   "outputs": [],
   "source": [
    "# Grabs the non-expandable reviews and puts them into a dictionary with an index\n",
    "# Expandable reviews will show up as an empty space in the dictionary due to \"display = none\" on the css\n",
    "list_of_reviews = driver.find_elements_by_css_selector(\"span[jsname='bN97Pc']\")\n",
    "review_dict = {}\n",
    "for i, review in enumerate(list_of_reviews):\n",
    "    review_dict[i] = review.text\n",
    "review_dict"
   ]
  },
  {
   "cell_type": "code",
   "execution_count": null,
   "id": "58eb1b97",
   "metadata": {},
   "outputs": [],
   "source": [
    "\n",
    "# Grabs the expandable reviews and puts them into a dictionary with an index\n",
    "# Non-Expandable reviews will show up as an empty space in the dictionary due to \"display = none\" on the css\n",
    "list_of_reviews2 = driver.find_elements_by_css_selector(\"span[jsname='fbQN7e']\")\n",
    "expanded_review_dict = {}\n",
    "for i, review in enumerate(list_of_reviews2):\n",
    "    expanded_review_dict[i] = review.text\n",
    "expanded_review_dict"
   ]
  },
  {
   "cell_type": "code",
   "execution_count": null,
   "id": "13b3e6ff",
   "metadata": {},
   "outputs": [],
   "source": [
    "# Due to the nature of the dictionaries, we can replace the empty space with values from the opposite dictionary\n",
    "# to make the full list of the review\n",
    "# index is required to match with other data like stars and date\n",
    "for i in review_dict:\n",
    "    if review_dict[i] == '':\n",
    "        review_dict[i] = expanded_review_dict[i]\n",
    "review_dict"
   ]
  },
  {
   "cell_type": "code",
   "execution_count": null,
   "id": "1334dca7",
   "metadata": {},
   "outputs": [],
   "source": [
    "#filters out developer responses\n",
    "list_of_users = driver.find_elements_by_class_name(\"bAhLNe.kx8XBd\")\n",
    "\n",
    "list_of_dates = [user.find_elements_by_class_name('p2TkOb')[0].text for user in list_of_users]\n",
    "\n",
    "date_dict = {}\n",
    "\n",
    "for i, date in enumerate(list_of_dates):\n",
    "    date_dict[i] = datetime.strptime(date, '%B %d, %Y')\n",
    "    #date_dict[i].strftime('%Y-%m-%d') to convert back to string\n",
    "date_dict\n"
   ]
  },
  {
   "cell_type": "code",
   "execution_count": null,
   "id": "9598cf01",
   "metadata": {},
   "outputs": [],
   "source": [
    "list_of_likes = driver.find_elements_by_class_name('jUL89d.y92BAb')\n",
    "like_dict = {}\n",
    "\n",
    "for i, like in enumerate(list_of_likes):\n",
    "    if like.text == '':\n",
    "        like_dict[i] = 0\n",
    "    else:\n",
    "        like_dict[i] = int(like.text)\n",
    "like_dict"
   ]
  },
  {
   "cell_type": "code",
   "execution_count": null,
   "id": "575b13e4",
   "metadata": {
    "scrolled": true
   },
   "outputs": [],
   "source": [
    "# Parent class containing the star review\n",
    "star_parent_class = driver.find_elements_by_class_name(\"pf5lIe\")\n",
    "# Child class containing the string star rating e.g. \"Rated 5 stars out of five stars\"\n",
    "list_of_stars = [parent.find_element_by_css_selector(\"div\").get_attribute(\"aria-label\") for parent in star_parent_class]\n",
    "star_dict = {}\n",
    "\n",
    "for i, star in enumerate(list_of_stars):\n",
    "    # Retrieving reviews that do not have a float value \n",
    "    # as these come from the recommended apps on the bottom\n",
    "    if not re.search('(\\d\\.\\d)', star):        \n",
    "        star_dict[i-1] = int(re.search('[0-5]', star).group())\n",
    "\n",
    "star_dict"
   ]
  },
  {
   "cell_type": "code",
   "execution_count": null,
   "id": "4ffcf472",
   "metadata": {},
   "outputs": [],
   "source": [
    "forest_list = [date_dict, star_dict, review_dict, like_dict]\n",
    "forest_list"
   ]
  }
 ],
 "metadata": {
  "kernelspec": {
   "display_name": "Python 3",
   "language": "python",
   "name": "python3"
  },
  "language_info": {
   "codemirror_mode": {
    "name": "ipython",
    "version": 3
   },
   "file_extension": ".py",
   "mimetype": "text/x-python",
   "name": "python",
   "nbconvert_exporter": "python",
   "pygments_lexer": "ipython3",
   "version": "3.8.8"
  }
 },
 "nbformat": 4,
 "nbformat_minor": 5
}
